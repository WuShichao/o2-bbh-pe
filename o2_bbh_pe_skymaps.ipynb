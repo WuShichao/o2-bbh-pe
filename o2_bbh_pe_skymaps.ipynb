{
 "cells": [
  {
   "cell_type": "markdown",
   "metadata": {},
   "source": [
    "# Generate skymaps with O2 posterior samples\n",
    "\n",
    "This notebook demonstrates the method used to generate skymap plots for all the seven O2 Binary Black hole events presented in [arxiv:1811.09232](https://arxiv.org/abs/1811.09232). We generate fits files from the posterior samples of the sky location parameters from the parameter estimation runs, and plot 90% credible region contours of the sky locations on a Mollweide projection plot."
   ]
  },
  {
   "cell_type": "markdown",
   "metadata": {},
   "source": [
    "## Install ligo.skymap"
   ]
  },
  {
   "cell_type": "code",
   "execution_count": 89,
   "metadata": {
    "collapsed": true
   },
   "outputs": [],
   "source": [
    "# Please look at https://lscsoft.docs.ligo.org/ligo.skymap/quickstart/install.html for the requirements before installation\n",
    "\n",
    "#!pip install ligo.skymap\n",
    "\n"
   ]
  },
  {
   "cell_type": "markdown",
   "metadata": {},
   "source": [
    "## Imports"
   ]
  },
  {
   "cell_type": "code",
   "execution_count": null,
   "metadata": {},
   "outputs": [],
   "source": [
    "import warnings\n",
    "warnings.filterwarnings('ignore')\n",
    "import numpy\n",
    "import h5py\n",
    "import matplotlib.pyplot as plt\n",
    "from ligo.skymap import io\n",
    "from ligo.skymap import plot\n",
    "from ligo.skymap.kde import Clustered2DSkyKDE\n",
    "from ligo.skymap import postprocess\n",
    "import healpy as hp\n",
    "import itertools\n",
    "from matplotlib import patches\n",
    "from matplotlib import rcParams\n",
    "rcParams['font.size'] = 14\n",
    "\n"
   ]
  },
  {
   "cell_type": "markdown",
   "metadata": {},
   "source": [
    "## Data files"
   ]
  },
  {
   "cell_type": "code",
   "execution_count": 1,
   "metadata": {},
   "outputs": [],
   "source": [
    "files = ['posteriors/GW170104/gw170104_posteriors_thinned.hdf', \\\n",
    "         'posteriors/GW170608/gw170608_posteriors_thinned.hdf', \\\n",
    "         'posteriors/GW170729/gw170729_posteriors_thinned.hdf', \\\n",
    "         'posteriors/GW170809/gw170809_posteriors_thinned.hdf', \\\n",
    "         'posteriors/GW170814/gw170814_posteriors_thinned.hdf', \\\n",
    "         'posteriors/GW170818/gw170818_posteriors_thinned.hdf', \\\n",
    "         'posteriors/GW170823/gw170823_posteriors_thinned.hdf']\n",
    "\n",
    "\n",
    "labels = [\"GW170104\", \"GW170608\", \"GW170729\", \"GW170809\", \"GW170814\", \"GW170818\", \"GW170823\"]\n",
    "\n"
   ]
  },
  {
   "cell_type": "markdown",
   "metadata": {},
   "source": [
    "## Read RA DEC posteriors fom PE runs and write fits files"
   ]
  },
  {
   "cell_type": "code",
   "execution_count": null,
   "metadata": {},
   "outputs": [],
   "source": [
    "for filename, event in zip(files, labels):\n",
    "    fp = h5py.File(filename, \"r\")\n",
    "    ra = numpy.array(fp['samples']['ra'][:])\n",
    "    dec = numpy.array(fp['samples']['dec'][:])\n",
    "    ra_dec_points = numpy.column_stack((ra,dec))\n",
    "    ra_dec_skypost = Clustered2DSkyKDE(ra_dec_points)\n",
    "    hpmap = ra_dec_skypost.as_healpix()\n",
    "    print(\"Done hpmap for {}\".format(event))\n",
    "    io.write_sky_map(event + 'skypost.fits.gz', hpmap, nest=True)\n",
    "    print(\"Done write_sky_map for {}\".format(event))"
   ]
  },
  {
   "cell_type": "markdown",
   "metadata": {},
   "source": [
    "## Make a dictionary with the event names as keys and the fits filenames as items"
   ]
  },
  {
   "cell_type": "code",
   "execution_count": 5,
   "metadata": {
    "collapsed": true
   },
   "outputs": [],
   "source": [
    "fits_files = {}\n",
    "for event in labels:\n",
    "    fits_files.update({event: event + 'skypost.fits.gz'})"
   ]
  },
  {
   "cell_type": "markdown",
   "metadata": {},
   "source": [
    "## Plot Fig. 3 of the paper : Probability distribution contours of sky locations on a Mollweide projection"
   ]
  },
  {
   "cell_type": "code",
   "execution_count": null,
   "metadata": {},
   "outputs": [],
   "source": [
    "contour_percent=90\n",
    "dpi=300\n",
    "    \n",
    "handles = []\n",
    "colors = itertools.cycle([\"C{}\".format(i) for i in range(10)])    \n",
    "fig = plt.figure(figsize=(8, 8), dpi=dpi)\n",
    "\n",
    "# Set time\n",
    "ax = fig.add_subplot(1,1,1,projection='astro hours mollweide')\n",
    "\n",
    "# Plot contours\n",
    "for event, fits_file in fits_files.items():\n",
    "    color = next(colors)\n",
    "    skymap, metadata = io.fits.read_sky_map(fits_file, nest=None)\n",
    "    cls = 100 * postprocess.find_greedy_credible_levels(skymap)\n",
    "    cs = ax.contour_hpx((cls, 'ICRS'), nested=metadata['nest'], colors=color, linewidths=1, levels=contour_percent)\n",
    "\n",
    "    handles.append(patches.Patch(color=color, label=event))\n",
    "\n",
    "ax.grid()\n",
    "\n",
    "\n",
    "plt.legend(bbox_to_anchor=(0,1.02,1,0.2), loc=\"lower left\", \n",
    "              handles=handles, labels=fits_files.keys(), fontsize=10,\n",
    "              mode=\"expand\", borderaxespad=0, ncol=3)\n",
    "plt.show()"
   ]
  },
  {
   "cell_type": "code",
   "execution_count": null,
   "metadata": {
    "collapsed": true
   },
   "outputs": [],
   "source": []
  }
 ],
 "metadata": {
  "kernelspec": {
   "display_name": "Python 2",
   "language": "python",
   "name": "python2"
  },
  "language_info": {
   "codemirror_mode": {
    "name": "ipython",
    "version": 2
   },
   "file_extension": ".py",
   "mimetype": "text/x-python",
   "name": "python",
   "nbconvert_exporter": "python",
   "pygments_lexer": "ipython2",
   "version": "2.7.5"
  }
 },
 "nbformat": 4,
 "nbformat_minor": 2
}
